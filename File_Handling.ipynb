{
  "nbformat": 4,
  "nbformat_minor": 0,
  "metadata": {
    "colab": {
      "provenance": []
    },
    "kernelspec": {
      "name": "python3",
      "display_name": "Python 3"
    },
    "language_info": {
      "name": "python"
    }
  },
  "cells": [
    {
      "cell_type": "markdown",
      "source": [
        "helloo Avantika"
      ],
      "metadata": {
        "id": "CRZjInAPyhSx"
      }
    },
    {
      "cell_type": "code",
      "source": [
        "# to create a text file\n",
        "import os\n",
        "filename = 'filename.txt'\n",
        "try:\n",
        "        with open(filename, 'w') as f:\n",
        "            f.write('Hello, world!\\n')\n",
        "        print(\"File \" + filename + \" created successfully.\")\n",
        "except IOError:\n",
        "        print(\"Error: could not create file \" + filename)\n",
        "\n",
        "#a\n",
        "#e\n",
        "#a\n"
      ],
      "metadata": {
        "colab": {
          "base_uri": "https://localhost:8080/"
        },
        "id": "BkV0T_T9ysUd",
        "outputId": "70868785-665d-4a0d-fb4a-955b67e73377"
      },
      "execution_count": null,
      "outputs": [
        {
          "output_type": "stream",
          "name": "stdout",
          "text": [
            "File filename.txt created successfully.\n"
          ]
        }
      ]
    },
    {
      "cell_type": "code",
      "source": [
        "#to read a  text file\n",
        "\n",
        "Nfile=\"longfile.txt\"\n",
        "try:\n",
        "        with open(Nfile, 'r') as f:\n",
        "            contents = f.read()\n",
        "            print(contents)\n",
        "except IOError:\n",
        "        print(\"Error: could not read file \" + Nfile)"
      ],
      "metadata": {
        "colab": {
          "base_uri": "https://localhost:8080/"
        },
        "id": "ii0v5PsJ4BUw",
        "outputId": "e73509fb-df6e-41e3-eca0-6f2b460d47f4"
      },
      "execution_count": null,
      "outputs": [
        {
          "output_type": "stream",
          "name": "stdout",
          "text": [
            "be closed automatically after one is done, so auto-cleanup. \n",
            "\n",
            "Every day is best we have to have the capacity to make it perfect\n"
          ]
        }
      ]
    },
    {
      "cell_type": "code",
      "source": [
        "# to create a text file\n",
        "import os\n",
        "Nfile=\"longfile.txt\"\n",
        "try:\n",
        "    with open(Nfile,'x')as f:\n",
        "      f.write('be closed automatically after one is done, so auto-cleanup. ')\n",
        "    print(\"File\" +Nfile+ \"done!\")\n",
        "except IOError:\n",
        "    print(\"Error!\")\n",
        "\n"
      ],
      "metadata": {
        "id": "SnhW6GRG2mWp",
        "colab": {
          "base_uri": "https://localhost:8080/"
        },
        "outputId": "21185cba-2655-411c-d73f-a6ee3a696e79"
      },
      "execution_count": null,
      "outputs": [
        {
          "output_type": "stream",
          "name": "stdout",
          "text": [
            "Filelongfile.txtdone!\n"
          ]
        }
      ]
    },
    {
      "cell_type": "code",
      "source": [
        "#append text to file\n",
        "filename='longfile.txt'\n",
        "try:\n",
        "        with open(filename, 'a') as f:\n",
        "            f.write('\\n\\nEvery day is best we have to have the capacity to make it perfect')\n",
        "        print(\"Text appended to file \" + filename + \" successfully.\")\n",
        "except IOError:\n",
        "        print(\"Error: could not append to file \" + filename)"
      ],
      "metadata": {
        "colab": {
          "base_uri": "https://localhost:8080/"
        },
        "id": "AQ6_fLRb5P-y",
        "outputId": "d8c6c6f3-fc7d-4805-dffd-9111aa7a4ea4"
      },
      "execution_count": null,
      "outputs": [
        {
          "output_type": "stream",
          "name": "stdout",
          "text": [
            "Text appended to file longfile.txt successfully.\n"
          ]
        }
      ]
    },
    {
      "cell_type": "code",
      "source": [
        "# to rename text file\n",
        "import os\n",
        "filename='renamedFile.txt'\n",
        "newfilename='avantika.txt'\n",
        "try:\n",
        "        os.rename(filename, newfilename)\n",
        "        print(\"File \" + filename + \" renamed to \" + newfilename + \" successfully.\")\n",
        "except IOError:\n",
        "        print(\"Error: could not rename file \" + filename)\n"
      ],
      "metadata": {
        "colab": {
          "base_uri": "https://localhost:8080/"
        },
        "id": "hnoidfRn5z6U",
        "outputId": "30141b92-637d-4aa7-d994-7cdbbe80a8ab"
      },
      "execution_count": null,
      "outputs": [
        {
          "output_type": "stream",
          "name": "stdout",
          "text": [
            "File renamedFile.txt renamed to avantika.txt successfully.\n"
          ]
        }
      ]
    },
    {
      "cell_type": "code",
      "source": [
        "#to delete text file\n",
        "filename='filename.txt'\n",
        "try:\n",
        "        os.remove(filename)\n",
        "        print(\"File \" + filename + \" deleted successfully.\")\n",
        "except IOError:\n",
        "        print(\"Error: could not delete file \" + filename)"
      ],
      "metadata": {
        "colab": {
          "base_uri": "https://localhost:8080/"
        },
        "id": "WERT5myY8AcJ",
        "outputId": "aedbebb3-3cdb-4f81-fd2f-a26a2d23c997"
      },
      "execution_count": 30,
      "outputs": [
        {
          "output_type": "stream",
          "name": "stdout",
          "text": [
            "Error: could not delete file filename.txt\n"
          ]
        }
      ]
    },
    {
      "cell_type": "code",
      "source": [
        "# to oen and close file\n",
        "file=open('avantika','a')\n",
        "file.write(\"This will add this line\")\n",
        "file.close()"
      ],
      "metadata": {
        "id": "b1AcffST8hAJ"
      },
      "execution_count": 31,
      "outputs": []
    },
    {
      "cell_type": "code",
      "source": [
        "# to open file\n",
        "file = open('avantika.txt', 'r')\n",
        "\n",
        "for each in file:\n",
        "    print (each)\n",
        "file.close()"
      ],
      "metadata": {
        "colab": {
          "base_uri": "https://localhost:8080/"
        },
        "id": "AWChi2Q39VtX",
        "outputId": "650d5826-3e4a-4736-8ddf-be866acd2966"
      },
      "execution_count": 33,
      "outputs": [
        {
          "output_type": "stream",
          "name": "stdout",
          "text": [
            "be closed automatically after one is done, so auto-cleanup. \n",
            "\n",
            "\n",
            "\n",
            "Every day is best we have to have the capacity to make it perfect\n"
          ]
        }
      ]
    }
  ]
}